{
  "nbformat": 4,
  "nbformat_minor": 0,
  "metadata": {
    "kernelspec": {
      "display_name": "Python 3",
      "name": "python3"
    },
    "language_info": {
      "codemirror_mode": {
        "name": "ipython",
        "version": 3
      },
      "file_extension": ".py",
      "mimetype": "text/x-python",
      "name": "python",
      "nbconvert_exporter": "python",
      "pygments_lexer": "ipython3",
      "version": "3.7.7"
    },
    "colab": {
      "name": "TopologicalDataAnalysisWithPython.ipynb",
      "provenance": [],
      "include_colab_link": true
    }
  },
  "cells": [
    {
      "cell_type": "markdown",
      "metadata": {
        "id": "view-in-github",
        "colab_type": "text"
      },
      "source": [
        "<a href=\"https://colab.research.google.com/github/jamelof23/ASL/blob/main/Start.ipynb\" target=\"_parent\"><img src=\"https://colab.research.google.com/assets/colab-badge.svg\" alt=\"Open In Colab\"/></a>"
      ]
    },
    {
      "cell_type": "markdown",
      "source": [
        "# Install Dependencies"
      ],
      "metadata": {
        "id": "HCiJCGS7OEyQ"
      }
    },
    {
      "cell_type": "code",
      "source": [
        "# Install OpenCV for image processing.\n",
        "!pip install opencv-python\n",
        "\n",
        "# Install mediapipe for hand detection\n",
        "!pip install mediapipe\n",
        "\n",
        "# Install TensorFlow (already pre-installed in Colab, but reinstall for specific versions)\n",
        "!pip install tensorflow\n",
        "\n",
        "# Install matplotlib for visualization\n",
        "!pip install matplotlib\n",
        "\n",
        "# Optional: Using PyTorch instead of TensorFlow\n",
        "!pip install torch torchvision\n",
        "\n",
        "\n",
        "import mediapipe as mp  # For hand gesture detection\n",
        "import tensorflow as tf  # For machine learning models\n",
        "import numpy as np  # For array operations\n",
        "import matplotlib.pyplot as plt  # For visualization\n",
        "import os # for Print\n"
      ],
      "metadata": {
        "id": "HQ-HuY1MOM3g"
      },
      "execution_count": null,
      "outputs": []
    },
    {
      "cell_type": "markdown",
      "source": [
        "\n",
        "# Setup Video Frames"
      ],
      "metadata": {
        "id": "KxdoQmpz5xxe"
      }
    },
    {
      "cell_type": "code",
      "source": [
        "import cv2  # For video capture and image processing\n",
        "\n",
        "from google.colab.patches import cv2_imshow  # This is the Colab-compatible version of imshow\n",
        "\n",
        "video_path = '/content/sample_data/10374282-hd_1920_1080_30fps.mp4'\n",
        "\n",
        "# Open the video using OpenCV\n",
        "cap = cv2.VideoCapture(video_path)\n",
        "\n",
        "while cap.isOpened():\n",
        "    # Capture frame-by-frame\n",
        "    ret, frame = cap.read()  # ret indicates if the frame was captured successfully\n",
        "\n",
        "    if not ret:\n",
        "        # If ret is False, it means the video has ended or failed to capture a frame\n",
        "        print(\"End of video or failed to capture frame\")\n",
        "        break\n",
        "\n",
        "    # Display the captured frame\n",
        "    cv2_imshow(frame)\n",
        "\n",
        "# Release the capture\n",
        "cap.release()"
      ],
      "metadata": {
        "id": "qfQFpPQOllSO"
      },
      "execution_count": null,
      "outputs": []
    },
    {
      "cell_type": "markdown",
      "source": [
        "# Notes"
      ],
      "metadata": {
        "id": "DfP_AMQQ6G8A"
      }
    },
    {
      "cell_type": "markdown",
      "source": [
        "*   Using Webcam in a Local Environment using OpenCV or Simulating Webcam in colab (Google Colab does not support direct webcam access).\n",
        "*   To recognize hand signs, you either need a pre-trained model or we can build a simple CNN model and train it using an ASL dataset. Example: ASL Alphabet Dataset on Kaggle and Sign Language MNIST on Kaggle."
      ],
      "metadata": {
        "id": "Flc_fGErpLbl"
      }
    },
    {
      "cell_type": "markdown",
      "source": [
        "\n",
        "# Saving Folders & ipynb file in Github"
      ],
      "metadata": {
        "id": "BAA52GATAaUn"
      }
    },
    {
      "cell_type": "code",
      "source": [
        "# Change to your project directory\n",
        "%cd /content\n",
        "\n",
        "# Initialize a Git repository if not already initialized\n",
        "!git init\n",
        "\n",
        "# Configure Git user information\n",
        "!git config --global user.email \"jamil.arbas@gmail.com\"  # Your email\n",
        "!git config --global user.name \"jamelof23\"  # Your name\n",
        "\n",
        "# Remove existing remote if it exists and add GitHub repository as a remote\n",
        "!git remote remove origin\n",
        "!git remote add origin https://github.com/jamelof23/ASL.git\n",
        "\n",
        "# Stage all files and folders\n",
        "!git add .\n",
        "\n",
        "# Commit the changes\n",
        "!git commit -m \"Add files and folders\"\n",
        "\n",
        "# Push to GitHub (using 'main' branch)\n",
        "!git push -u origin main\n"
      ],
      "metadata": {
        "id": "XFabQ5BDAsRa",
        "outputId": "2a5fc411-5e2c-4197-af39-e897d821e9f0",
        "colab": {
          "base_uri": "https://localhost:8080/"
        }
      },
      "execution_count": null,
      "outputs": [
        {
          "output_type": "stream",
          "name": "stdout",
          "text": [
            "/content\n",
            "Reinitialized existing Git repository in /content/.git/\n",
            "On branch main\n",
            "nothing to commit, working tree clean\n",
            "fatal: could not read Username for 'https://github.com': No such device or address\n"
          ]
        }
      ]
    }
  ]
}