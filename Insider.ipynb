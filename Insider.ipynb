{
  "cells": [
    {
      "cell_type": "markdown",
      "metadata": {
        "id": "view-in-github",
        "colab_type": "text"
      },
      "source": [
        "<a href=\"https://colab.research.google.com/github/jamelof23/ASL/blob/main/Insider.ipynb\" target=\"_parent\"><img src=\"https://colab.research.google.com/assets/colab-badge.svg\" alt=\"Open In Colab\"/></a>"
      ]
    },
    {
      "cell_type": "code",
      "source": [
        "import requests\n",
        "import pandas as pd\n",
        "import time\n",
        "\n",
        "def get_sp500_symbols():\n",
        "    url = 'https://en.wikipedia.org/wiki/List_of_S%26P_500_companies'\n",
        "    response = requests.get(url)\n",
        "\n",
        "    if response.status_code == 200:\n",
        "        table = pd.read_html(response.content, match='Symbol')[0]\n",
        "        return table['Symbol'].tolist()\n",
        "    else:\n",
        "        print(\"Failed to retrieve S&P 500 data.\")\n",
        "        return []\n",
        "\n",
        "def get_insider_trades_finnhub(api_key, symbol):\n",
        "    url = f'https://finnhub.io/api/v1/stock/insider-transactions?symbol={symbol}&token={api_key}'\n",
        "    response = requests.get(url)\n",
        "\n",
        "    if response.status_code == 200:\n",
        "        data = response.json()\n",
        "        if 'data' in data and data['data']:\n",
        "            df = pd.DataFrame(data['data'])\n",
        "            buy_transactions = df[df['change'] > 0]\n",
        "            sell_transactions = df[df['change'] < 0]\n",
        "            return {'Buy': buy_transactions, 'Sell': sell_transactions}\n",
        "    else:\n",
        "        print(f\"Failed to retrieve data for {symbol}. Status code: {response.status_code}\")\n",
        "    return None\n",
        "\n",
        "# Get your API key from finnhub.io\n",
        "api_key = 'csea3f1r01qs1ihohl6gcsea3f1r01qs1ihohl70'\n",
        "\n",
        "# Fetch the list of S&P 500 symbols\n",
        "sp500_symbols = get_sp500_symbols()\n",
        "\n",
        "# Dictionary to store insider trades\n",
        "all_insider_trades = {}\n",
        "\n",
        "for symbol in sp500_symbols[:5]:  # Limited to 5 for demonstration\n",
        "    print(f\"Fetching insider transactions for {symbol}...\")\n",
        "    trades = get_insider_trades_finnhub(api_key, symbol)\n",
        "    if trades:\n",
        "        all_insider_trades[symbol] = trades\n",
        "    time.sleep(1)\n",
        "\n",
        "# Display results\n",
        "for symbol, trades in all_insider_trades.items():\n",
        "    print(f\"\\n{symbol} Insider Buy Transactions:\")\n",
        "    print(trades['Buy'] if not trades['Buy'].empty else \"No recent buy transactions.\")\n",
        "    print(f\"\\n{symbol} Insider Sell Transactions:\")\n",
        "    print(trades['Sell'] if not trades['Sell'].empty else \"No recent sell transactions.\")\n"
      ],
      "metadata": {
        "id": "UTLGJwJEjscP"
      },
      "execution_count": null,
      "outputs": []
    }
  ],
  "metadata": {
    "colab": {
      "name": "Welcome To Colab",
      "toc_visible": true,
      "provenance": [],
      "include_colab_link": true
    },
    "kernelspec": {
      "display_name": "Python 3",
      "name": "python3"
    }
  },
  "nbformat": 4,
  "nbformat_minor": 0
}