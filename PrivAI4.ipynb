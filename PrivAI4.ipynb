{
  "nbformat": 4,
  "nbformat_minor": 0,
  "metadata": {
    "colab": {
      "provenance": [],
      "name": "PrivAI.ipynb",
      "gpuType": "T4",
      "authorship_tag": "ABX9TyOnMCtC4nnoawElctKcZAjA",
      "include_colab_link": true
    },
    "kernelspec": {
      "name": "python3",
      "display_name": "Python 3"
    },
    "language_info": {
      "name": "python"
    },
    "accelerator": "GPU"
  },
  "cells": [
    {
      "cell_type": "markdown",
      "metadata": {
        "id": "view-in-github",
        "colab_type": "text"
      },
      "source": [
        "<a href=\"https://colab.research.google.com/github/jamelof23/ASL/blob/main/PrivAI4.ipynb\" target=\"_parent\"><img src=\"https://colab.research.google.com/assets/colab-badge.svg\" alt=\"Open In Colab\"/></a>"
      ]
    },
    {
      "cell_type": "markdown",
      "source": [
        "# Fetch Codebase and Models"
      ],
      "metadata": {
        "id": "iXIucaWWpoVe"
      }
    },
    {
      "cell_type": "code",
      "source": [
        "import os\n",
        "os.chdir('/content')\n",
        "CODE_DIR = 'interfacegan'\n",
        "!git clone https://github.com/genforce/interfacegan.git $CODE_DIR\n",
        "os.chdir(f'./{CODE_DIR}')\n",
        "!wget https://www.dropbox.com/s/qyv37eaobnow7fu/stylegan_ffhq.pth?dl=1 -O models/pretrain/stylegan_ffhq.pth --quiet"
      ],
      "metadata": {
        "id": "tyMo0VCfprkA"
      },
      "execution_count": null,
      "outputs": []
    },
    {
      "cell_type": "markdown",
      "source": [
        "# Define Utility Functions"
      ],
      "metadata": {
        "id": "XpgN0pa0pwg3"
      }
    },
    {
      "cell_type": "code",
      "source": [
        "import os.path\n",
        "import io\n",
        "import IPython.display\n",
        "import numpy as np\n",
        "import cv2\n",
        "import PIL.Image\n",
        "\n",
        "import torch\n",
        "\n",
        "# A dictionary containing information about the models available (e.g., pggan, stylegan).\n",
        "from models.model_settings import MODEL_POOL\n",
        "\n",
        "from models.stylegan_generator import StyleGANGenerator\n",
        "\n",
        "\n",
        "def build_generator(model_name):\n",
        "  \"\"\"Builds the generator by model name.\"\"\"\n",
        "  gan_type = MODEL_POOL[model_name]['gan_type']\n",
        "  if gan_type == 'stylegan':\n",
        "    generator = StyleGANGenerator(model_name)\n",
        "  return generator\n",
        "\n",
        "import cv2\n",
        "import numpy as np\n",
        "from PIL import Image\n",
        "import IPython.display as display\n",
        "import io\n",
        "\n",
        "def imshow(image, viz_size=256):\n",
        "\n",
        "    # Ensure the input is a single image\n",
        "    if image.ndim != 3:\n",
        "        raise ValueError(\"Input must be a single image with 3 dimensions (height, width, channels).\")\n",
        "\n",
        "    # Resize the image if necessary\n",
        "    height, width, channels = image.shape\n",
        "    if height != viz_size or width != viz_size:\n",
        "        image = cv2.resize(image, (viz_size, viz_size))\n",
        "\n",
        "    # Convert image to a displayable format\n",
        "    image = np.asarray(image, dtype=np.uint8)\n",
        "    data = io.BytesIO()\n",
        "    Image.fromarray(image).save(data, 'jpeg')\n",
        "    im_data = data.getvalue()\n",
        "\n",
        "    # Display the image\n",
        "    return display.display(display.Image(im_data))"
      ],
      "metadata": {
        "id": "-s7RBNULp0Xy"
      },
      "execution_count": null,
      "outputs": []
    },
    {
      "cell_type": "markdown",
      "source": [
        "# Select a Model"
      ],
      "metadata": {
        "id": "SE18UQjbqHuC"
      }
    },
    {
      "cell_type": "code",
      "source": [
        "# Fixed parameters\n",
        "model_name = \"stylegan_ffhq\"  # Always use 'stylegan_ffhq'\n",
        "latent_space_type = \"W\"       # Always use latent space type 'W'\n",
        "\n",
        "# Function to build and load the generator model\n",
        "generator = build_generator(model_name)\n",
        "\n",
        "# List of attributes for manipulation\n",
        "ATTRS = ['age', 'eyeglasses', 'gender', 'pose', 'smile']\n",
        "# Dictionary to store attribute boundaries\n",
        "boundaries = {}\n",
        "\n",
        "# Loading Attribute Boundaries\n",
        "for attr_name in ATTRS:\n",
        "    boundary_name = f'{model_name}_{attr_name}'\n",
        "    # Load the correct boundary file based on the latent space type\n",
        "    boundary_path = f'boundaries/{boundary_name}_w_boundary.npy'\n",
        "    boundaries[attr_name] = np.load(boundary_path)\n"
      ],
      "metadata": {
        "id": "8jeFZnt3qBqw"
      },
      "execution_count": null,
      "outputs": []
    },
    {
      "cell_type": "markdown",
      "source": [
        "# Upload latent codes"
      ],
      "metadata": {
        "id": "eVYhSVzVqS5q"
      }
    },
    {
      "cell_type": "code",
      "source": [
        "import numpy as np\n",
        "from google.colab import files\n",
        "\n",
        "#num_samples = 1\n",
        "\n",
        "# Upload the .npy file\n",
        "print(\"[INFO] Please upload your latent vector (.npy file):\")\n",
        "uploaded = files.upload()\n",
        "\n",
        "# Load the uploaded latent vector\n",
        "npy_file_name = list(uploaded.keys())[0]\n",
        "latent_codes = np.load(npy_file_name)\n",
        "\n",
        "# Ensure that the latent vector is in the correct format (numpy.ndarray) and shape\n",
        "if not isinstance(latent_codes, np.ndarray) or latent_codes.shape != (1, 512):\n",
        "    raise ValueError(f\"Latent codes must be a numpy.ndarray with shape (1, 512), but got {latent_codes.shape}\")\n",
        "\n",
        "# Use W space for StyleGAN synthesis\n",
        "synthesis_kwargs = {'latent_space_type': 'W'}\n",
        "\n",
        "# Generate the image using customized latent vector\n",
        "images = generator.easy_synthesize(latent_codes, **synthesis_kwargs)['image']\n",
        "\n",
        "# Extract the first image (assuming images has a batch dimension)\n",
        "if images.ndim == 4:  # e.g., (batch_size, height, width, channels)\n",
        "    images = images[0]\n",
        "\n",
        "# Ensure the image is in the correct shape\n",
        "if images.ndim != 3:\n",
        "    raise ValueError(f\"Generated image must have shape (height, width, channels), but got {images.shape}\")\n",
        "\n",
        "# Display the generated image\n",
        "imshow(images)"
      ],
      "metadata": {
        "colab": {
          "base_uri": "https://localhost:8080/",
          "height": 346
        },
        "id": "L1t9sQI7qXFe",
        "outputId": "7478158d-4f8c-42d1-fe93-f084d6c8096d"
      },
      "execution_count": null,
      "outputs": [
        {
          "output_type": "stream",
          "name": "stdout",
          "text": [
            "[INFO] Please upload your latent vector (.npy file):\n"
          ]
        },
        {
          "output_type": "display_data",
          "data": {
            "text/plain": [
              "<IPython.core.display.HTML object>"
            ],
            "text/html": [
              "\n",
              "     <input type=\"file\" id=\"files-6505e555-a04f-4769-8516-e469ef86ec69\" name=\"files[]\" multiple disabled\n",
              "        style=\"border:none\" />\n",
              "     <output id=\"result-6505e555-a04f-4769-8516-e469ef86ec69\">\n",
              "      Upload widget is only available when the cell has been executed in the\n",
              "      current browser session. Please rerun this cell to enable.\n",
              "      </output>\n",
              "      <script>// Copyright 2017 Google LLC\n",
              "//\n",
              "// Licensed under the Apache License, Version 2.0 (the \"License\");\n",
              "// you may not use this file except in compliance with the License.\n",
              "// You may obtain a copy of the License at\n",
              "//\n",
              "//      http://www.apache.org/licenses/LICENSE-2.0\n",
              "//\n",
              "// Unless required by applicable law or agreed to in writing, software\n",
              "// distributed under the License is distributed on an \"AS IS\" BASIS,\n",
              "// WITHOUT WARRANTIES OR CONDITIONS OF ANY KIND, either express or implied.\n",
              "// See the License for the specific language governing permissions and\n",
              "// limitations under the License.\n",
              "\n",
              "/**\n",
              " * @fileoverview Helpers for google.colab Python module.\n",
              " */\n",
              "(function(scope) {\n",
              "function span(text, styleAttributes = {}) {\n",
              "  const element = document.createElement('span');\n",
              "  element.textContent = text;\n",
              "  for (const key of Object.keys(styleAttributes)) {\n",
              "    element.style[key] = styleAttributes[key];\n",
              "  }\n",
              "  return element;\n",
              "}\n",
              "\n",
              "// Max number of bytes which will be uploaded at a time.\n",
              "const MAX_PAYLOAD_SIZE = 100 * 1024;\n",
              "\n",
              "function _uploadFiles(inputId, outputId) {\n",
              "  const steps = uploadFilesStep(inputId, outputId);\n",
              "  const outputElement = document.getElementById(outputId);\n",
              "  // Cache steps on the outputElement to make it available for the next call\n",
              "  // to uploadFilesContinue from Python.\n",
              "  outputElement.steps = steps;\n",
              "\n",
              "  return _uploadFilesContinue(outputId);\n",
              "}\n",
              "\n",
              "// This is roughly an async generator (not supported in the browser yet),\n",
              "// where there are multiple asynchronous steps and the Python side is going\n",
              "// to poll for completion of each step.\n",
              "// This uses a Promise to block the python side on completion of each step,\n",
              "// then passes the result of the previous step as the input to the next step.\n",
              "function _uploadFilesContinue(outputId) {\n",
              "  const outputElement = document.getElementById(outputId);\n",
              "  const steps = outputElement.steps;\n",
              "\n",
              "  const next = steps.next(outputElement.lastPromiseValue);\n",
              "  return Promise.resolve(next.value.promise).then((value) => {\n",
              "    // Cache the last promise value to make it available to the next\n",
              "    // step of the generator.\n",
              "    outputElement.lastPromiseValue = value;\n",
              "    return next.value.response;\n",
              "  });\n",
              "}\n",
              "\n",
              "/**\n",
              " * Generator function which is called between each async step of the upload\n",
              " * process.\n",
              " * @param {string} inputId Element ID of the input file picker element.\n",
              " * @param {string} outputId Element ID of the output display.\n",
              " * @return {!Iterable<!Object>} Iterable of next steps.\n",
              " */\n",
              "function* uploadFilesStep(inputId, outputId) {\n",
              "  const inputElement = document.getElementById(inputId);\n",
              "  inputElement.disabled = false;\n",
              "\n",
              "  const outputElement = document.getElementById(outputId);\n",
              "  outputElement.innerHTML = '';\n",
              "\n",
              "  const pickedPromise = new Promise((resolve) => {\n",
              "    inputElement.addEventListener('change', (e) => {\n",
              "      resolve(e.target.files);\n",
              "    });\n",
              "  });\n",
              "\n",
              "  const cancel = document.createElement('button');\n",
              "  inputElement.parentElement.appendChild(cancel);\n",
              "  cancel.textContent = 'Cancel upload';\n",
              "  const cancelPromise = new Promise((resolve) => {\n",
              "    cancel.onclick = () => {\n",
              "      resolve(null);\n",
              "    };\n",
              "  });\n",
              "\n",
              "  // Wait for the user to pick the files.\n",
              "  const files = yield {\n",
              "    promise: Promise.race([pickedPromise, cancelPromise]),\n",
              "    response: {\n",
              "      action: 'starting',\n",
              "    }\n",
              "  };\n",
              "\n",
              "  cancel.remove();\n",
              "\n",
              "  // Disable the input element since further picks are not allowed.\n",
              "  inputElement.disabled = true;\n",
              "\n",
              "  if (!files) {\n",
              "    return {\n",
              "      response: {\n",
              "        action: 'complete',\n",
              "      }\n",
              "    };\n",
              "  }\n",
              "\n",
              "  for (const file of files) {\n",
              "    const li = document.createElement('li');\n",
              "    li.append(span(file.name, {fontWeight: 'bold'}));\n",
              "    li.append(span(\n",
              "        `(${file.type || 'n/a'}) - ${file.size} bytes, ` +\n",
              "        `last modified: ${\n",
              "            file.lastModifiedDate ? file.lastModifiedDate.toLocaleDateString() :\n",
              "                                    'n/a'} - `));\n",
              "    const percent = span('0% done');\n",
              "    li.appendChild(percent);\n",
              "\n",
              "    outputElement.appendChild(li);\n",
              "\n",
              "    const fileDataPromise = new Promise((resolve) => {\n",
              "      const reader = new FileReader();\n",
              "      reader.onload = (e) => {\n",
              "        resolve(e.target.result);\n",
              "      };\n",
              "      reader.readAsArrayBuffer(file);\n",
              "    });\n",
              "    // Wait for the data to be ready.\n",
              "    let fileData = yield {\n",
              "      promise: fileDataPromise,\n",
              "      response: {\n",
              "        action: 'continue',\n",
              "      }\n",
              "    };\n",
              "\n",
              "    // Use a chunked sending to avoid message size limits. See b/62115660.\n",
              "    let position = 0;\n",
              "    do {\n",
              "      const length = Math.min(fileData.byteLength - position, MAX_PAYLOAD_SIZE);\n",
              "      const chunk = new Uint8Array(fileData, position, length);\n",
              "      position += length;\n",
              "\n",
              "      const base64 = btoa(String.fromCharCode.apply(null, chunk));\n",
              "      yield {\n",
              "        response: {\n",
              "          action: 'append',\n",
              "          file: file.name,\n",
              "          data: base64,\n",
              "        },\n",
              "      };\n",
              "\n",
              "      let percentDone = fileData.byteLength === 0 ?\n",
              "          100 :\n",
              "          Math.round((position / fileData.byteLength) * 100);\n",
              "      percent.textContent = `${percentDone}% done`;\n",
              "\n",
              "    } while (position < fileData.byteLength);\n",
              "  }\n",
              "\n",
              "  // All done.\n",
              "  yield {\n",
              "    response: {\n",
              "      action: 'complete',\n",
              "    }\n",
              "  };\n",
              "}\n",
              "\n",
              "scope.google = scope.google || {};\n",
              "scope.google.colab = scope.google.colab || {};\n",
              "scope.google.colab._files = {\n",
              "  _uploadFiles,\n",
              "  _uploadFilesContinue,\n",
              "};\n",
              "})(self);\n",
              "</script> "
            ]
          },
          "metadata": {}
        },
        {
          "output_type": "stream",
          "name": "stdout",
          "text": [
            "Saving your_latent_vector.npy to your_latent_vector.npy\n"
          ]
        },
        {
          "output_type": "display_data",
          "data": {
            "image/jpeg": "[encoded data removed]",
            "text/plain": [
              "<IPython.core.display.Image object>"
            ]
          },
          "metadata": {}
        }
      ]
    },
    {
      "cell_type": "markdown",
      "source": [
        "# Adding Noise"
      ],
      "metadata": {
        "id": "q538xAYyqe5z"
      }
    },
    {
      "cell_type": "code",
      "source": [
        "import numpy as np\n",
        "\n",
        "# Differential Privacy Parameters (Slider Values)\n",
        "epsilon = 0.63  # @param {\"type\":\"slider\",\"min\":0.01,\"max\":5,\"step\":0.01}\n",
        "delta = 0.001  # @param {type:\"slider\", min:1e-7, max:1e-3, step:1e-7}\n",
        "clipping_threshold = 5  # @param {type:\"slider\", min:0.1, max:5.0, step:0.1}\n",
        "\n",
        "# Dropdown Menu for Attribute Selection\n",
        "attribute_selection = \"Age\"  # @param [\"Age\", \"Gender\", \"Both\"]\n",
        "\n",
        "# Function to add Gaussian noise for differential privacy\n",
        "def add_gaussian_noise(epsilon, delta, boundary):\n",
        "    \"\"\"\n",
        "    Adds Gaussian noise to a vector for differential privacy.\n",
        "\n",
        "    Args:\n",
        "        epsilon (float): Privacy budget.\n",
        "        delta (float): Probability of failure.\n",
        "        boundary (np.ndarray): Attribute boundary vector.\n",
        "\n",
        "    Returns:\n",
        "        np.ndarray: Noise scaled by boundary.\n",
        "    \"\"\"\n",
        "    # Compute the standard deviation for Gaussian noise\n",
        "    sigma = np.sqrt(2 * np.log(1.25 / delta)) / epsilon\n",
        "\n",
        "    # Generate Gaussian noise\n",
        "    noise = np.random.normal(0, sigma, boundary.shape)\n",
        "\n",
        "    # Return the noise scaled by the boundary\n",
        "    return boundary * noise\n",
        "\n",
        "# Copy the original latent codes\n",
        "new_codes = latent_codes.copy()\n",
        "\n",
        "selected_attributes = []\n",
        "# Map attribute_selection to the list of attributes to modify\n",
        "if attribute_selection == \"Age\":\n",
        "    selected_attributes = [\"age\"]\n",
        "elif attribute_selection == \"Gender\":\n",
        "    selected_attributes = [\"gender\"]\n",
        "elif attribute_selection == \"Both\":\n",
        "    selected_attributes = [\"age\", \"gender\"]\n",
        "else:\n",
        "    selected_attributes = []\n",
        "\n",
        "# Add noise only to the selected attributes\n",
        "for attr_name in selected_attributes:\n",
        "    # Add Gaussian noise to the boundary\n",
        "    noised_boundary = add_gaussian_noise(\n",
        "        epsilon=epsilon,\n",
        "        delta=delta,\n",
        "        boundary=boundaries[attr_name]\n",
        "    )\n",
        "\n",
        "    # Add the noise-modified boundary to the latent codes\n",
        "    new_codes += noised_boundary\n",
        "\n",
        "# Apply clipping as the final step\n",
        "new_codes = np.clip(new_codes, -clipping_threshold, clipping_threshold)\n",
        "\n",
        "# Generate the new images\n",
        "new_images = generator.easy_synthesize(new_codes, **synthesis_kwargs)['image']\n",
        "\n",
        "# Ensure only a single image is passed to imshow\n",
        "if new_images.ndim == 4:  # If batch dimension exists\n",
        "    new_images = new_images[0]\n",
        "\n",
        "# Validate the image shape\n",
        "if new_images.ndim != 3:\n",
        "    raise ValueError(f\"Generated image must have shape (height, width, channels), but got {new_images.shape}\")\n",
        "\n",
        "# Display the new image\n",
        "imshow(new_images)\n"
      ],
      "metadata": {
        "colab": {
          "base_uri": "https://localhost:8080/",
          "height": 273
        },
        "id": "Ic-vCQ6qqj0U",
        "outputId": "f7d800ea-5fcf-4263-d0ef-d09767e61b3b",
        "cellView": "form"
      },
      "execution_count": null,
      "outputs": [
        {
          "output_type": "display_data",
          "data": {
            "image/jpeg": "[encoded data removed]",
            "text/plain": [
              "<IPython.core.display.Image object>"
            ]
          },
          "metadata": {}
        }
      ]
    },
    {
      "cell_type": "markdown",
      "source": [
        "# Adding projected Noise"
      ],
      "metadata": {
        "id": "MUcaEVERWBFJ"
      }
    },
    {
      "cell_type": "code",
      "source": [
        "import numpy as np\n",
        "\n",
        "# Differential Privacy Parameters\n",
        "epsilon = 14.72  # @param {\"type\":\"slider\",\"min\":0.01,\"max\":100,\"step\":0.01}\n",
        "delta = 0.001  # @param {type:\"slider\", min:1e-7, max:1e-3, step:1e-7}\n",
        "clipping_threshold = 0.6  # @param {type:\"slider\", min:0.1, max:5.0, step:0.1}\n",
        "\n",
        "# Dropdown Menu for Attribute Selection\n",
        "attribute_selection = \"Age\"  # @param [\"Age\", \"Gender\", \"Both\"]\n",
        "\n",
        "# Function to orthogonalize boundaries\n",
        "def orthogonalize_boundaries(boundaries):\n",
        "\n",
        "    \"\"\"\n",
        "    Orthogonalizes the attribute boundaries using Gram-Schmidt process.\n",
        "\n",
        "    Args:\n",
        "        boundaries (dict): Dictionary of attribute boundaries.\n",
        "\n",
        "    Returns:\n",
        "        dict: Dictionary of orthogonalized attribute boundaries.\n",
        "    \"\"\"\n",
        "\n",
        "    orthogonal_boundaries = {}\n",
        "    keys = list(boundaries.keys())\n",
        "    for i, key_i in enumerate(keys):\n",
        "        boundary_i = boundaries[key_i].copy()\n",
        "        for j in range(i):\n",
        "            key_j = keys[j]\n",
        "            boundary_j = orthogonal_boundaries[key_j]\n",
        "            projection = np.dot(boundary_i.flatten(), boundary_j.flatten()) / np.dot(boundary_j.flatten(), boundary_j.flatten())\n",
        "            boundary_i -= projection * boundary_j\n",
        "        orthogonal_boundaries[key_i] = boundary_i / np.linalg.norm(boundary_i)  # Normalize\n",
        "    return orthogonal_boundaries\n",
        "\n",
        "# Orthogonalize the boundaries\n",
        "orthogonal_boundaries = orthogonalize_boundaries(boundaries)\n",
        "\n",
        "# Function to add scalar noise\n",
        "def add_scalar_noise(epsilon, delta):\n",
        "    sigma = np.sqrt(2 * np.log(1.25 / delta)) / epsilon\n",
        "    scalar_noise = np.random.normal(0, sigma)\n",
        "    return scalar_noise\n",
        "\n",
        "# Copy the original latent codes\n",
        "new_codes = latent_codes.copy()\n",
        "\n",
        "# Map attribute_selection to the list of attributes to modify\n",
        "if attribute_selection == \"Age\":\n",
        "    selected_attributes = [\"age\"]\n",
        "elif attribute_selection == \"Gender\":\n",
        "    selected_attributes = [\"gender\"]\n",
        "elif attribute_selection == \"Both\":\n",
        "    selected_attributes = [\"age\", \"gender\"]\n",
        "else:\n",
        "    selected_attributes = []\n",
        "\n",
        "\n",
        "# Modify attributes with scalar noise\n",
        "for attr_name in selected_attributes:\n",
        "    # Retrieve the orthogonalized boundary for the attribute\n",
        "    boundary = orthogonal_boundaries[attr_name]\n",
        "\n",
        "    # Generate scalar noise\n",
        "    scalar_noise = add_scalar_noise(epsilon, delta)\n",
        "\n",
        "    # Add the noise-scaled boundary to the latent codes\n",
        "    new_codes += boundary * scalar_noise\n",
        "\n",
        "# Apply clipping as the final step\n",
        "new_codes = np.clip(new_codes, latent_codes.min(), latent_codes.max())\n",
        "\n",
        "# Generate the new images\n",
        "new_images = generator.easy_synthesize(new_codes, **synthesis_kwargs)['image']\n",
        "\n",
        "# Ensure only a single image is passed to imshow\n",
        "if new_images.ndim == 4:  # If batch dimension exists\n",
        "    new_images = new_images[0]\n",
        "\n",
        "# Validate the image shape\n",
        "if new_images.ndim != 3:\n",
        "    raise ValueError(f\"Generated image must have shape (height, width, channels), but got {new_images.shape}\")\n",
        "\n",
        "# Display the new image\n",
        "imshow(new_images)\n"
      ],
      "metadata": {
        "colab": {
          "base_uri": "https://localhost:8080/",
          "height": 273
        },
        "id": "paQD9jVNWBnR",
        "outputId": "57d0f202-f2f3-4e2b-8681-b2314375e6bb"
      },
      "execution_count": null,
      "outputs": [
        {
          "output_type": "display_data",
          "data": {
            "image/jpeg": "[encoded data removed]",
            "text/plain": [
              "<IPython.core.display.Image object>"
            ]
          },
          "metadata": {}
        }
      ]
    },
    {
      "cell_type": "markdown",
      "source": [
        "\n",
        "\n",
        "# Edit Attributes"
      ],
      "metadata": {
        "id": "U8Uo1n0W0qhq"
      }
    },
    {
      "cell_type": "code",
      "source": [
        "#@title { display-mode: \"form\", run: \"auto\" }\n",
        "# Assuming ATTRS and boundaries are defined earlier in your script\n",
        "ATTRS = ['age', 'eyeglasses', 'gender', 'pose', 'smile']  # Example definition\n",
        "# boundaries should be a dictionary with keys corresponding to ATTRS\n",
        "# boundaries = {'age': ..., 'eyeglasses': ..., 'gender': ..., 'pose': ..., 'smile': ...}\n",
        "\n",
        "# Slider values for attributes\n",
        "age = 0  # @param {type:\"slider\", min:-3.0, max:3.0, step:0.1}\n",
        "eyeglasses = 0  # @param {type:\"slider\", min:-2.9, max:3.0, step:0.1}\n",
        "gender = 0  # @param {type:\"slider\", min:-3.0, max:3.0, step:0.1}\n",
        "pose = 0  # @param {type:\"slider\", min:-3.0, max:3.0, step:0.1}\n",
        "smile = 2  # @param {type:\"slider\", min:-3.0, max:3.0, step:0.1}\n",
        "\n",
        "# Copying the original latent codes\n",
        "new_codes = latent_codes.copy()\n",
        "\n",
        "# Adding modifications based on attribute sliders\n",
        "for attr_name in ATTRS:\n",
        "    # Ensure attribute exists in boundaries and its slider value is valid\n",
        "    if attr_name in boundaries:\n",
        "        new_codes += boundaries[attr_name] * eval(attr_name)\n",
        "\n",
        "# Generate the new image(s)\n",
        "new_images = generator.easy_synthesize(new_codes, **synthesis_kwargs)['image']\n",
        "\n",
        "# Extract and validate single image\n",
        "if new_images.ndim == 4:  # If batch dimension exists\n",
        "    new_images = new_images[0]  # Extract the first image\n",
        "\n",
        "# Ensure the image has the correct shape\n",
        "if new_images.ndim != 3:\n",
        "    raise ValueError(f\"Generated image must have shape (height, width, channels), but got {new_images.shape}\")\n",
        "\n",
        "# Display the image\n",
        "imshow(new_images)\n"
      ],
      "metadata": {
        "id": "0QoVsazF0uMZ",
        "outputId": "b4e54678-e34d-4b41-d9bb-672d362cce6a",
        "colab": {
          "base_uri": "https://localhost:8080/",
          "height": 273
        }
      },
      "execution_count": null,
      "outputs": [
        {
          "output_type": "display_data",
          "data": {
            "image/jpeg": "[encoded data removed]",
            "text/plain": [
              "<IPython.core.display.Image object>"
            ]
          },
          "metadata": {}
        }
      ]
    }
  ]
}